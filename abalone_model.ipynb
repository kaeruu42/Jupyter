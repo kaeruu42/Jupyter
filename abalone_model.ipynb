{
 "cells": [
  {
   "cell_type": "code",
   "execution_count": 1,
   "id": "58c8c9e4",
   "metadata": {},
   "outputs": [],
   "source": [
    "import joblib\n",
    "import pandas as pd\n",
    "from sklearn.ensemble import RandomForestRegressor\n",
    "from sklearn.metrics import mean_absolute_error"
   ]
  },
  {
   "cell_type": "code",
   "execution_count": 4,
   "id": "c4c32144",
   "metadata": {},
   "outputs": [],
   "source": [
    "train_df = pd.read_csv('abalone_train.csv',\n",
    "                       names = ['age', 'length', 'diameter', 'height',\n",
    "                                'whole_weight', 'shucked_weight', 'viscera_weight',\n",
    "                                'shell_weight', 'sex_I', 'sex_M'])\n",
    "valid_df = pd.read_csv('abalone_validation.csv',\n",
    "                       names = ['age', 'length', 'diameter', 'height',\n",
    "                                'whole_weight', 'shucked_weight', 'viscera_weight',\n",
    "                                'shell_weight', 'sex_I', 'sex_M'])"
   ]
  },
  {
   "cell_type": "markdown",
   "id": "0a29f214",
   "metadata": {},
   "source": [
    "# Build model"
   ]
  },
  {
   "cell_type": "code",
   "execution_count": 5,
   "id": "2930d524",
   "metadata": {},
   "outputs": [
    {
     "name": "stdout",
     "output_type": "stream",
     "text": [
      "MAE = 1.52 years\n"
     ]
    }
   ],
   "source": [
    "model = RandomForestRegressor(n_estimators=100, random_state=123).fit(train_df.drop(columns='age'), train_df['age'])\n",
    "predicted_age = model.predict(valid_df.drop(columns='age'))\n",
    "mae = mean_absolute_error(predicted_age, valid_df['age'])\n",
    "print(f\"MAE = {mae:.2f} years\")"
   ]
  },
  {
   "cell_type": "markdown",
   "id": "cfd323e4",
   "metadata": {},
   "source": [
    "Using only the features ['age', 'length', 'diameter', 'height']:"
   ]
  },
  {
   "cell_type": "code",
   "execution_count": 6,
   "id": "2649a955",
   "metadata": {},
   "outputs": [
    {
     "name": "stdout",
     "output_type": "stream",
     "text": [
      "MAE = 1.88 years\n"
     ]
    }
   ],
   "source": [
    "features = ['length', 'diameter', 'height', 'whole_weight']\n",
    "model = RandomForestRegressor(n_estimators=100, random_state=123).fit(train_df[features],\n",
    "                                                                      train_df['age'])\n",
    "predicted_age = model.predict(valid_df[features])\n",
    "mae = mean_absolute_error(predicted_age, valid_df['age'])\n",
    "print(f\"MAE = {mae:.2f} years\")\n",
    "\n"
   ]
  },
  {
   "cell_type": "markdown",
   "id": "a9ffd52a",
   "metadata": {},
   "source": [
    "# Save Model"
   ]
  },
  {
   "cell_type": "code",
   "execution_count": 7,
   "id": "d3f88359",
   "metadata": {},
   "outputs": [],
   "source": [
    "features = ['length', 'diameter', 'height', 'whole_weight']\n",
    "full_X = pd.concat((train_df[features], valid_df[features]))\n",
    "full_y = pd.concat((train_df['age'], valid_df['age']))\n",
    "model = RandomForestRegressor(n_estimators=100).fit(full_X, full_y)"
   ]
  },
  {
   "cell_type": "code",
   "execution_count": 9,
   "id": "2c47a84c",
   "metadata": {},
   "outputs": [],
   "source": [
    "with open('web_api/abalone_predictor.joblib', 'wb') as f:\n",
    "    joblib.dump(model, f)\n",
    "with open('web_application/abalone_predictor.joblib', 'wb') as f:\n",
    "    joblib.dump(model, f)"
   ]
  },
  {
   "cell_type": "markdown",
   "id": "b1eba6a7",
   "metadata": {},
   "source": [
    "## Prediction Function"
   ]
  },
  {
   "cell_type": "code",
   "execution_count": 10,
   "id": "55e1ee6a",
   "metadata": {},
   "outputs": [],
   "source": [
    "input_json = {'length': 0.41,\n",
    "              'diameter': 0.33,\n",
    "              'height': 0.10,\n",
    "              'whole_weight': 0.36}"
   ]
  },
  {
   "cell_type": "code",
   "execution_count": 11,
   "id": "f12530c3",
   "metadata": {},
   "outputs": [],
   "source": [
    "def return_prediction(model, input_json):\n",
    "    \n",
    "    input_data = [[input_json[k] for k in input_json.keys()]]\n",
    "    prediction = model.predict(input_data)[0]\n",
    "    \n",
    "    return prediction"
   ]
  },
  {
   "cell_type": "code",
   "execution_count": 12,
   "id": "7eb08c65",
   "metadata": {},
   "outputs": [
    {
     "name": "stderr",
     "output_type": "stream",
     "text": [
      "C:\\Users\\David\\AppData\\Local\\Programs\\Python\\Python38\\lib\\site-packages\\sklearn\\base.py:450: UserWarning: X does not have valid feature names, but RandomForestRegressor was fitted with feature names\n",
      "  warnings.warn(\n"
     ]
    },
    {
     "data": {
      "text/plain": [
       "9.24"
      ]
     },
     "execution_count": 12,
     "metadata": {},
     "output_type": "execute_result"
    }
   ],
   "source": [
    "return_prediction(model, input_json)"
   ]
  },
  {
   "cell_type": "code",
   "execution_count": null,
   "id": "05b29b1d",
   "metadata": {},
   "outputs": [],
   "source": []
  }
 ],
 "metadata": {
  "kernelspec": {
   "display_name": "Python 3 (ipykernel)",
   "language": "python",
   "name": "python3"
  },
  "language_info": {
   "codemirror_mode": {
    "name": "ipython",
    "version": 3
   },
   "file_extension": ".py",
   "mimetype": "text/x-python",
   "name": "python",
   "nbconvert_exporter": "python",
   "pygments_lexer": "ipython3",
   "version": "3.8.10"
  }
 },
 "nbformat": 4,
 "nbformat_minor": 5
}
