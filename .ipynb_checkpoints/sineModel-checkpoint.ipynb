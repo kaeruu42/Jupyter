{
 "cells": [
  {
   "cell_type": "code",
   "execution_count": 2,
   "id": "3d6e0f3c",
   "metadata": {},
   "outputs": [],
   "source": [
    "import numpy as np\n",
    "\n",
    "seed = 12345512\n",
    "np.random.seed(seed)\n",
    "\n",
    "# dataset of 100 observations\n",
    "n = 100\n",
    "# returns num evenly spaced numbers over interval -5 to 5\n",
    "x_data = np.linspace(-5, 5, num=n)\n",
    "# add gaussian random noise to simulate real measurements\n",
    "y_data = 10 + 5 * np.cos(3 * x_data + 2) + 1.5 * np.random.normal(size=n)\n",
    "\n",
    "# randomly split data into test and train\n",
    "from sklearn.model_selection import train_test_split\n",
    "X_train, X_test, y_train, y_test = train_test_split(x_data, y_data, test_size=0.2, random_state=42)\n",
    "\n"
   ]
  },
  {
   "cell_type": "code",
   "execution_count": 6,
   "id": "e0e15ae2",
   "metadata": {},
   "outputs": [
    {
     "name": "stdout",
     "output_type": "stream",
     "text": [
      "Fitted parameters:\n"
     ]
    },
    {
     "data": {
      "text/latex": [
       "$\\displaystyle a_0=9.95, a_1=0.68, \\omega=1.55, \\phi=-4.42$"
      ],
      "text/plain": [
       "<IPython.core.display.Math object>"
      ]
     },
     "metadata": {},
     "output_type": "display_data"
    },
    {
     "name": "stdout",
     "output_type": "stream",
     "text": [
      "Original parameters:\n"
     ]
    },
    {
     "data": {
      "text/latex": [
       "$\\displaystyle a_0=10.00, a_1=5.00, \\omega=3.00, \\phi=2.00$"
      ],
      "text/plain": [
       "<IPython.core.display.Math object>"
      ]
     },
     "metadata": {},
     "output_type": "display_data"
    },
    {
     "data": {
      "image/png": "[encoded data removed]",
      "text/plain": [
       "<Figure size 640x480 with 1 Axes>"
      ]
     },
     "metadata": {},
     "output_type": "display_data"
    }
   ],
   "source": [
    "# Using optimize function of Scipy\n",
    "from scipy import optimize\n",
    "from IPython.display import display, Math\n",
    "from matplotlib import pyplot as plt\n",
    "\n",
    "def test_func(x, dist, amp, omega, phi):\n",
    "    return dist + amp * np.cos(omega * x + phi)\n",
    "\n",
    "params, params_covariance = optimize.curve_fit(test_func, x_data, y_data, p0=[1, 1, 2, 1])\n",
    "\n",
    "print('Fitted parameters:')\n",
    "display(Math('a_0={:.2f}, a_1={:.2f}, \\\\omega={:.2f}, \\\\phi={:.2f}'.format(*params)))\n",
    "print('Original parameters:')\n",
    "display(Math('a_0={:.2f}, a_1={:.2f}, \\\\omega={:.2f}, \\\\phi={:.2f}'.format(*[10.0, 5.0, 3.0, 2.0])))\n",
    "\n",
    "plt.plot(X_train, y_train, \"ro\")\n",
    "y_fit = test_func(X_train, *params)\n",
    "plt.plot(X_train, y_fit, \"bo\")\n",
    "plt.show()"
   ]
  },
  {
   "cell_type": "code",
   "execution_count": null,
   "id": "2e9401c1",
   "metadata": {},
   "outputs": [],
   "source": []
  }
 ],
 "metadata": {
  "kernelspec": {
   "display_name": "Python 3 (ipykernel)",
   "language": "python",
   "name": "python3"
  },
  "language_info": {
   "codemirror_mode": {
    "name": "ipython",
    "version": 3
   },
   "file_extension": ".py",
   "mimetype": "text/x-python",
   "name": "python",
   "nbconvert_exporter": "python",
   "pygments_lexer": "ipython3",
   "version": "3.8.10"
  }
 },
 "nbformat": 4,
 "nbformat_minor": 5
}
