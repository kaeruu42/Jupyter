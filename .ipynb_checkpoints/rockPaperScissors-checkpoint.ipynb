{
 "cells": [
  {
   "cell_type": "code",
   "execution_count": 1,
   "id": "7e8f158f",
   "metadata": {},
   "outputs": [],
   "source": [
    "import random\n",
    "\n",
    "playAgain = True\n",
    "\n",
    "def get_choices():\n",
    "    player_choice = input(\"Enter a choice (rock, paper, scissors): \")\n",
    "    options = [\"rock\", \"paper\", \"scissors\"]\n",
    "    computer_choice = random.choice(options)\n",
    "    choices = {\"player\": player_choice, \"computer\": computer_choice}\n",
    "    return choices\n",
    "\n",
    "\n",
    "def check_win(player, computer):\n",
    "    print(f\"You chose {player}, computer chose {computer}.\")\n",
    "    if player == computer:\n",
    "        return \"It's a tie.\"\n",
    "    elif player == \"rock\":\n",
    "        if computer == \"scissors\":\n",
    "            return \"Rock smashes scissors! You win!\"\n",
    "        else:\n",
    "            return \"Paper covers rock! You lose.\"\n",
    "    elif player == \"paper\":\n",
    "        if computer == \"rock\":\n",
    "            return \"Paper covers rock! You win!\"\n",
    "        else:\n",
    "            return \"Scissors cut paper! You lose.\"\n",
    "    elif player == \"scissors\":\n",
    "        if computer == \"rock\":\n",
    "            return \"Rock smashes scissors! You lose.\"\n",
    "        else:\n",
    "            return \"Scissors cut paper! You win!\"\n",
    "    else:\n",
    "        return \"Invalid choice.\""
   ]
  },
  {
   "cell_type": "code",
   "execution_count": null,
   "id": "a572c500",
   "metadata": {},
   "outputs": [
    {
     "name": "stdout",
     "output_type": "stream",
     "text": [
      "Enter a choice (rock, paper, scissors): sds\n",
      "You chose sds, computer chose paper.\n",
      "Invalid choice.\n",
      "Enter a choice (rock, paper, scissors): scissors\n",
      "You chose scissors, computer chose paper.\n",
      "Scissors cut paper! You win!\n"
     ]
    }
   ],
   "source": [
    "while playAgain:\n",
    "    choices = get_choices()\n",
    "    print(check_win(choices[\"player\"], choices[\"computer\"]))"
   ]
  },
  {
   "cell_type": "code",
   "execution_count": null,
   "id": "fc59c1f7",
   "metadata": {},
   "outputs": [],
   "source": []
  }
 ],
 "metadata": {
  "kernelspec": {
   "display_name": "Python 3 (ipykernel)",
   "language": "python",
   "name": "python3"
  },
  "language_info": {
   "codemirror_mode": {
    "name": "ipython",
    "version": 3
   },
   "file_extension": ".py",
   "mimetype": "text/x-python",
   "name": "python",
   "nbconvert_exporter": "python",
   "pygments_lexer": "ipython3",
   "version": "3.8.10"
  }
 },
 "nbformat": 4,
 "nbformat_minor": 5
}
