{
 "cells": [
  {
   "cell_type": "code",
   "execution_count": 3,
   "id": "9ee80a37",
   "metadata": {},
   "outputs": [
    {
     "name": "stdout",
     "output_type": "stream",
     "text": [
      "Collecting jupyter_kernel_gateway\n",
      "  Downloading jupyter_kernel_gateway-2.5.1-py3-none-any.whl (46 kB)\n",
      "     -------------------------------------- 46.9/46.9 kB 796.5 kB/s eta 0:00:00\n",
      "Requirement already satisfied: notebook<7.0,>=5.7.6 in c:\\users\\david\\appdata\\local\\programs\\python\\python38\\lib\\site-packages (from jupyter_kernel_gateway) (6.4.12)\n",
      "Requirement already satisfied: jupyter-client>=5.2.0 in c:\\users\\david\\appdata\\local\\programs\\python\\python38\\lib\\site-packages (from jupyter_kernel_gateway) (7.3.5)\n",
      "Requirement already satisfied: jupyter-core>=4.4.0 in c:\\users\\david\\appdata\\local\\programs\\python\\python38\\lib\\site-packages (from jupyter_kernel_gateway) (4.11.1)\n",
      "Requirement already satisfied: traitlets>=4.2.0 in c:\\users\\david\\appdata\\local\\programs\\python\\python38\\lib\\site-packages (from jupyter_kernel_gateway) (5.3.0)\n",
      "Requirement already satisfied: requests<3.0,>=2.7 in c:\\users\\david\\appdata\\local\\programs\\python\\python38\\lib\\site-packages (from jupyter_kernel_gateway) (2.28.1)\n",
      "Requirement already satisfied: tornado>=4.2.0 in c:\\users\\david\\appdata\\local\\programs\\python\\python38\\lib\\site-packages (from jupyter_kernel_gateway) (6.2)\n",
      "Requirement already satisfied: pyzmq>=23.0 in c:\\users\\david\\appdata\\local\\programs\\python\\python38\\lib\\site-packages (from jupyter-client>=5.2.0->jupyter_kernel_gateway) (23.2.1)\n",
      "Requirement already satisfied: nest-asyncio>=1.5.4 in c:\\users\\david\\appdata\\local\\programs\\python\\python38\\lib\\site-packages (from jupyter-client>=5.2.0->jupyter_kernel_gateway) (1.5.5)\n",
      "Requirement already satisfied: entrypoints in c:\\users\\david\\appdata\\local\\programs\\python\\python38\\lib\\site-packages (from jupyter-client>=5.2.0->jupyter_kernel_gateway) (0.4)\n",
      "Requirement already satisfied: python-dateutil>=2.8.2 in c:\\users\\david\\appdata\\local\\programs\\python\\python38\\lib\\site-packages (from jupyter-client>=5.2.0->jupyter_kernel_gateway) (2.8.2)\n",
      "Requirement already satisfied: pywin32>=1.0 in c:\\users\\david\\appdata\\local\\programs\\python\\python38\\lib\\site-packages (from jupyter-core>=4.4.0->jupyter_kernel_gateway) (304)\n",
      "Requirement already satisfied: prometheus-client in c:\\users\\david\\appdata\\local\\programs\\python\\python38\\lib\\site-packages (from notebook<7.0,>=5.7.6->jupyter_kernel_gateway) (0.14.1)\n",
      "Requirement already satisfied: nbformat in c:\\users\\david\\appdata\\local\\programs\\python\\python38\\lib\\site-packages (from notebook<7.0,>=5.7.6->jupyter_kernel_gateway) (5.4.0)\n",
      "Requirement already satisfied: jinja2 in c:\\users\\david\\appdata\\local\\programs\\python\\python38\\lib\\site-packages (from notebook<7.0,>=5.7.6->jupyter_kernel_gateway) (3.1.2)\n",
      "Requirement already satisfied: Send2Trash>=1.8.0 in c:\\users\\david\\appdata\\local\\programs\\python\\python38\\lib\\site-packages (from notebook<7.0,>=5.7.6->jupyter_kernel_gateway) (1.8.0)\n",
      "Requirement already satisfied: argon2-cffi in c:\\users\\david\\appdata\\local\\programs\\python\\python38\\lib\\site-packages (from notebook<7.0,>=5.7.6->jupyter_kernel_gateway) (21.3.0)\n",
      "Requirement already satisfied: terminado>=0.8.3 in c:\\users\\david\\appdata\\local\\programs\\python\\python38\\lib\\site-packages (from notebook<7.0,>=5.7.6->jupyter_kernel_gateway) (0.15.0)\n",
      "Requirement already satisfied: nbconvert>=5 in c:\\users\\david\\appdata\\local\\programs\\python\\python38\\lib\\site-packages (from notebook<7.0,>=5.7.6->jupyter_kernel_gateway) (7.0.0)\n",
      "Requirement already satisfied: ipykernel in c:\\users\\david\\appdata\\local\\programs\\python\\python38\\lib\\site-packages (from notebook<7.0,>=5.7.6->jupyter_kernel_gateway) (6.15.2)\n",
      "Requirement already satisfied: ipython-genutils in c:\\users\\david\\appdata\\local\\programs\\python\\python38\\lib\\site-packages (from notebook<7.0,>=5.7.6->jupyter_kernel_gateway) (0.2.0)\n",
      "Requirement already satisfied: charset-normalizer<3,>=2 in c:\\users\\david\\appdata\\local\\programs\\python\\python38\\lib\\site-packages (from requests<3.0,>=2.7->jupyter_kernel_gateway) (2.1.1)\n",
      "Requirement already satisfied: idna<4,>=2.5 in c:\\users\\david\\appdata\\local\\programs\\python\\python38\\lib\\site-packages (from requests<3.0,>=2.7->jupyter_kernel_gateway) (3.3)\n",
      "Requirement already satisfied: urllib3<1.27,>=1.21.1 in c:\\users\\david\\appdata\\local\\programs\\python\\python38\\lib\\site-packages (from requests<3.0,>=2.7->jupyter_kernel_gateway) (1.26.12)\n",
      "Requirement already satisfied: certifi>=2017.4.17 in c:\\users\\david\\appdata\\local\\programs\\python\\python38\\lib\\site-packages (from requests<3.0,>=2.7->jupyter_kernel_gateway) (2022.6.15)\n",
      "Requirement already satisfied: beautifulsoup4 in c:\\users\\david\\appdata\\local\\programs\\python\\python38\\lib\\site-packages (from nbconvert>=5->notebook<7.0,>=5.7.6->jupyter_kernel_gateway) (4.11.1)\n",
      "Requirement already satisfied: pygments>=2.4.1 in c:\\users\\david\\appdata\\local\\programs\\python\\python38\\lib\\site-packages (from nbconvert>=5->notebook<7.0,>=5.7.6->jupyter_kernel_gateway) (2.13.0)\n",
      "Requirement already satisfied: importlib-metadata>=3.6 in c:\\users\\david\\appdata\\local\\programs\\python\\python38\\lib\\site-packages (from nbconvert>=5->notebook<7.0,>=5.7.6->jupyter_kernel_gateway) (4.12.0)\n",
      "Requirement already satisfied: bleach in c:\\users\\david\\appdata\\local\\programs\\python\\python38\\lib\\site-packages (from nbconvert>=5->notebook<7.0,>=5.7.6->jupyter_kernel_gateway) (5.0.1)\n",
      "Requirement already satisfied: defusedxml in c:\\users\\david\\appdata\\local\\programs\\python\\python38\\lib\\site-packages (from nbconvert>=5->notebook<7.0,>=5.7.6->jupyter_kernel_gateway) (0.7.1)\n",
      "Requirement already satisfied: jupyterlab-pygments in c:\\users\\david\\appdata\\local\\programs\\python\\python38\\lib\\site-packages (from nbconvert>=5->notebook<7.0,>=5.7.6->jupyter_kernel_gateway) (0.2.2)\n",
      "Requirement already satisfied: mistune<3,>=2.0.3 in c:\\users\\david\\appdata\\local\\programs\\python\\python38\\lib\\site-packages (from nbconvert>=5->notebook<7.0,>=5.7.6->jupyter_kernel_gateway) (2.0.4)\n",
      "Requirement already satisfied: lxml in c:\\users\\david\\appdata\\local\\programs\\python\\python38\\lib\\site-packages (from nbconvert>=5->notebook<7.0,>=5.7.6->jupyter_kernel_gateway) (4.9.1)\n",
      "Requirement already satisfied: tinycss2 in c:\\users\\david\\appdata\\local\\programs\\python\\python38\\lib\\site-packages (from nbconvert>=5->notebook<7.0,>=5.7.6->jupyter_kernel_gateway) (1.1.1)\n",
      "Requirement already satisfied: pandocfilters>=1.4.1 in c:\\users\\david\\appdata\\local\\programs\\python\\python38\\lib\\site-packages (from nbconvert>=5->notebook<7.0,>=5.7.6->jupyter_kernel_gateway) (1.5.0)\n",
      "Requirement already satisfied: markupsafe>=2.0 in c:\\users\\david\\appdata\\local\\programs\\python\\python38\\lib\\site-packages (from nbconvert>=5->notebook<7.0,>=5.7.6->jupyter_kernel_gateway) (2.1.1)\n",
      "Requirement already satisfied: nbclient>=0.5.0 in c:\\users\\david\\appdata\\local\\programs\\python\\python38\\lib\\site-packages (from nbconvert>=5->notebook<7.0,>=5.7.6->jupyter_kernel_gateway) (0.6.7)\n",
      "Requirement already satisfied: packaging in c:\\users\\david\\appdata\\local\\programs\\python\\python38\\lib\\site-packages (from nbconvert>=5->notebook<7.0,>=5.7.6->jupyter_kernel_gateway) (21.3)\n",
      "Requirement already satisfied: jsonschema>=2.6 in c:\\users\\david\\appdata\\local\\programs\\python\\python38\\lib\\site-packages (from nbformat->notebook<7.0,>=5.7.6->jupyter_kernel_gateway) (4.15.0)\n",
      "Requirement already satisfied: fastjsonschema in c:\\users\\david\\appdata\\local\\programs\\python\\python38\\lib\\site-packages (from nbformat->notebook<7.0,>=5.7.6->jupyter_kernel_gateway) (2.16.1)\n",
      "Requirement already satisfied: six>=1.5 in c:\\users\\david\\appdata\\local\\programs\\python\\python38\\lib\\site-packages (from python-dateutil>=2.8.2->jupyter-client>=5.2.0->jupyter_kernel_gateway) (1.16.0)\n",
      "Requirement already satisfied: pywinpty>=1.1.0 in c:\\users\\david\\appdata\\local\\programs\\python\\python38\\lib\\site-packages (from terminado>=0.8.3->notebook<7.0,>=5.7.6->jupyter_kernel_gateway) (2.0.7)\n",
      "Requirement already satisfied: argon2-cffi-bindings in c:\\users\\david\\appdata\\local\\programs\\python\\python38\\lib\\site-packages (from argon2-cffi->notebook<7.0,>=5.7.6->jupyter_kernel_gateway) (21.2.0)\n",
      "Requirement already satisfied: ipython>=7.23.1 in c:\\users\\david\\appdata\\local\\programs\\python\\python38\\lib\\site-packages (from ipykernel->notebook<7.0,>=5.7.6->jupyter_kernel_gateway) (8.4.0)\n",
      "Requirement already satisfied: matplotlib-inline>=0.1 in c:\\users\\david\\appdata\\local\\programs\\python\\python38\\lib\\site-packages (from ipykernel->notebook<7.0,>=5.7.6->jupyter_kernel_gateway) (0.1.6)\n",
      "Requirement already satisfied: psutil in c:\\users\\david\\appdata\\local\\programs\\python\\python38\\lib\\site-packages (from ipykernel->notebook<7.0,>=5.7.6->jupyter_kernel_gateway) (5.9.1)\n",
      "Requirement already satisfied: debugpy>=1.0 in c:\\users\\david\\appdata\\local\\programs\\python\\python38\\lib\\site-packages (from ipykernel->notebook<7.0,>=5.7.6->jupyter_kernel_gateway) (1.6.3)\n",
      "Requirement already satisfied: zipp>=0.5 in c:\\users\\david\\appdata\\local\\programs\\python\\python38\\lib\\site-packages (from importlib-metadata>=3.6->nbconvert>=5->notebook<7.0,>=5.7.6->jupyter_kernel_gateway) (3.8.1)\n",
      "Requirement already satisfied: decorator in c:\\users\\david\\appdata\\local\\programs\\python\\python38\\lib\\site-packages (from ipython>=7.23.1->ipykernel->notebook<7.0,>=5.7.6->jupyter_kernel_gateway) (5.1.1)\n",
      "Requirement already satisfied: setuptools>=18.5 in c:\\users\\david\\appdata\\local\\programs\\python\\python38\\lib\\site-packages (from ipython>=7.23.1->ipykernel->notebook<7.0,>=5.7.6->jupyter_kernel_gateway) (56.0.0)\n",
      "Requirement already satisfied: backcall in c:\\users\\david\\appdata\\local\\programs\\python\\python38\\lib\\site-packages (from ipython>=7.23.1->ipykernel->notebook<7.0,>=5.7.6->jupyter_kernel_gateway) (0.2.0)\n",
      "Requirement already satisfied: pickleshare in c:\\users\\david\\appdata\\local\\programs\\python\\python38\\lib\\site-packages (from ipython>=7.23.1->ipykernel->notebook<7.0,>=5.7.6->jupyter_kernel_gateway) (0.7.5)\n",
      "Requirement already satisfied: prompt-toolkit!=3.0.0,!=3.0.1,<3.1.0,>=2.0.0 in c:\\users\\david\\appdata\\local\\programs\\python\\python38\\lib\\site-packages (from ipython>=7.23.1->ipykernel->notebook<7.0,>=5.7.6->jupyter_kernel_gateway) (3.0.31)\n",
      "Requirement already satisfied: jedi>=0.16 in c:\\users\\david\\appdata\\local\\programs\\python\\python38\\lib\\site-packages (from ipython>=7.23.1->ipykernel->notebook<7.0,>=5.7.6->jupyter_kernel_gateway) (0.18.1)\n",
      "Requirement already satisfied: colorama in c:\\users\\david\\appdata\\local\\programs\\python\\python38\\lib\\site-packages (from ipython>=7.23.1->ipykernel->notebook<7.0,>=5.7.6->jupyter_kernel_gateway) (0.4.5)\n",
      "Requirement already satisfied: stack-data in c:\\users\\david\\appdata\\local\\programs\\python\\python38\\lib\\site-packages (from ipython>=7.23.1->ipykernel->notebook<7.0,>=5.7.6->jupyter_kernel_gateway) (0.5.0)\n",
      "Requirement already satisfied: pyrsistent!=0.17.0,!=0.17.1,!=0.17.2,>=0.14.0 in c:\\users\\david\\appdata\\local\\programs\\python\\python38\\lib\\site-packages (from jsonschema>=2.6->nbformat->notebook<7.0,>=5.7.6->jupyter_kernel_gateway) (0.18.1)\n",
      "Requirement already satisfied: pkgutil-resolve-name>=1.3.10 in c:\\users\\david\\appdata\\local\\programs\\python\\python38\\lib\\site-packages (from jsonschema>=2.6->nbformat->notebook<7.0,>=5.7.6->jupyter_kernel_gateway) (1.3.10)\n",
      "Requirement already satisfied: attrs>=17.4.0 in c:\\users\\david\\appdata\\local\\programs\\python\\python38\\lib\\site-packages (from jsonschema>=2.6->nbformat->notebook<7.0,>=5.7.6->jupyter_kernel_gateway) (22.1.0)\n",
      "Requirement already satisfied: importlib-resources>=1.4.0 in c:\\users\\david\\appdata\\local\\programs\\python\\python38\\lib\\site-packages (from jsonschema>=2.6->nbformat->notebook<7.0,>=5.7.6->jupyter_kernel_gateway) (5.9.0)\n",
      "Requirement already satisfied: cffi>=1.0.1 in c:\\users\\david\\appdata\\local\\programs\\python\\python38\\lib\\site-packages (from argon2-cffi-bindings->argon2-cffi->notebook<7.0,>=5.7.6->jupyter_kernel_gateway) (1.15.1)\n",
      "Requirement already satisfied: soupsieve>1.2 in c:\\users\\david\\appdata\\local\\programs\\python\\python38\\lib\\site-packages (from beautifulsoup4->nbconvert>=5->notebook<7.0,>=5.7.6->jupyter_kernel_gateway) (2.3.2.post1)\n",
      "Requirement already satisfied: webencodings in c:\\users\\david\\appdata\\local\\programs\\python\\python38\\lib\\site-packages (from bleach->nbconvert>=5->notebook<7.0,>=5.7.6->jupyter_kernel_gateway) (0.5.1)\n",
      "Requirement already satisfied: pyparsing!=3.0.5,>=2.0.2 in c:\\users\\david\\appdata\\local\\programs\\python\\python38\\lib\\site-packages (from packaging->nbconvert>=5->notebook<7.0,>=5.7.6->jupyter_kernel_gateway) (3.0.9)\n",
      "Requirement already satisfied: pycparser in c:\\users\\david\\appdata\\local\\programs\\python\\python38\\lib\\site-packages (from cffi>=1.0.1->argon2-cffi-bindings->argon2-cffi->notebook<7.0,>=5.7.6->jupyter_kernel_gateway) (2.21)\n",
      "Requirement already satisfied: parso<0.9.0,>=0.8.0 in c:\\users\\david\\appdata\\local\\programs\\python\\python38\\lib\\site-packages (from jedi>=0.16->ipython>=7.23.1->ipykernel->notebook<7.0,>=5.7.6->jupyter_kernel_gateway) (0.8.3)\n",
      "Requirement already satisfied: wcwidth in c:\\users\\david\\appdata\\local\\programs\\python\\python38\\lib\\site-packages (from prompt-toolkit!=3.0.0,!=3.0.1,<3.1.0,>=2.0.0->ipython>=7.23.1->ipykernel->notebook<7.0,>=5.7.6->jupyter_kernel_gateway) (0.2.5)\n",
      "Requirement already satisfied: executing in c:\\users\\david\\appdata\\local\\programs\\python\\python38\\lib\\site-packages (from stack-data->ipython>=7.23.1->ipykernel->notebook<7.0,>=5.7.6->jupyter_kernel_gateway) (1.0.0)\n",
      "Requirement already satisfied: asttokens in c:\\users\\david\\appdata\\local\\programs\\python\\python38\\lib\\site-packages (from stack-data->ipython>=7.23.1->ipykernel->notebook<7.0,>=5.7.6->jupyter_kernel_gateway) (2.0.8)\n",
      "Requirement already satisfied: pure-eval in c:\\users\\david\\appdata\\local\\programs\\python\\python38\\lib\\site-packages (from stack-data->ipython>=7.23.1->ipykernel->notebook<7.0,>=5.7.6->jupyter_kernel_gateway) (0.2.2)\n",
      "Installing collected packages: jupyter_kernel_gateway\n",
      "Successfully installed jupyter_kernel_gateway-2.5.1\n"
     ]
    },
    {
     "name": "stderr",
     "output_type": "stream",
     "text": [
      "  WARNING: The script jupyter-kernelgateway.exe is installed in 'C:\\Users\\David\\AppData\\Local\\Programs\\Python\\Python38\\Scripts' which is not on PATH.\n",
      "  Consider adding this directory to PATH or, if you prefer to suppress this warning, use --no-warn-script-location.\n",
      "\n",
      "[notice] A new release of pip available: 22.2.2 -> 22.3\n",
      "[notice] To update, run: C:\\Users\\David\\AppData\\Local\\Programs\\Python\\Python38\\python.exe -m pip install --upgrade pip\n"
     ]
    }
   ],
   "source": [
    "import sys\n",
    "!{sys.executable} -m pip install jupyter_kernel_gateway"
   ]
  },
  {
   "cell_type": "code",
   "execution_count": 5,
   "id": "cedc74b4",
   "metadata": {},
   "outputs": [
    {
     "name": "stdout",
     "output_type": "stream",
     "text": [
      "\n",
      "C:\\Jupyter\\Jupyter>py -m notebook \n"
     ]
    },
    {
     "name": "stderr",
     "output_type": "stream",
     "text": [
      "[I 2022-11-01 07:10:46.435 LabApp] JupyterLab extension loaded from C:\\Users\\David\\AppData\\Local\\Programs\\Python\\Python38\\lib\\site-packages\\jupyterlab\n",
      "[I 2022-11-01 07:10:46.435 LabApp] JupyterLab application directory is C:\\Users\\David\\AppData\\Local\\Programs\\Python\\Python38\\share\\jupyter\\lab\n",
      "[I 07:10:46.435 NotebookApp] The port 8888 is already in use, trying another port.\n",
      "[I 07:10:46.435 NotebookApp] Serving notebooks from local directory: C:\\Jupyter\\Jupyter\n",
      "[I 07:10:46.445 NotebookApp] Jupyter Notebook 6.4.12 is running at:\n",
      "[I 07:10:46.445 NotebookApp] http://localhost:8889/?token=aeebb7440024ea360d971d4f824a6323f003bd11c99619a1\n",
      "[I 07:10:46.445 NotebookApp]  or http://127.0.0.1:8889/?token=aeebb7440024ea360d971d4f824a6323f003bd11c99619a1\n",
      "[I 07:10:46.445 NotebookApp] Use Control-C to stop this server and shut down all kernels (twice to skip confirmation).\n",
      "[C 07:10:46.485 NotebookApp] \n",
      "    \n",
      "    To access the notebook, open this file in a browser:\n",
      "        file:///C:/Users/David/AppData/Roaming/jupyter/runtime/nbserver-6244-open.html\n",
      "    Or copy and paste one of these URLs:\n",
      "        http://localhost:8889/?token=aeebb7440024ea360d971d4f824a6323f003bd11c99619a1\n",
      "     or http://127.0.0.1:8889/?token=aeebb7440024ea360d971d4f824a6323f003bd11c99619a1\n",
      "[I 07:11:03.418 NotebookApp] Shutting down on /api/shutdown request.\n",
      "[I 07:11:03.418 NotebookApp] Shutting down 0 kernels\n",
      "[I 07:11:03.428 NotebookApp] Shutting down 0 terminals\n"
     ]
    }
   ],
   "source": [
    "!jupyter kernelgateway --KernelGatewayApp.api=kernel_gateway.notebook_http --KernelGatewayApp.seed_uri=./apiExample.ipynb --port=10100"
   ]
  },
  {
   "cell_type": "code",
   "execution_count": null,
   "id": "5165dc41",
   "metadata": {},
   "outputs": [],
   "source": []
  }
 ],
 "metadata": {
  "kernelspec": {
   "display_name": "Python 3 (ipykernel)",
   "language": "python",
   "name": "python3"
  },
  "language_info": {
   "codemirror_mode": {
    "name": "ipython",
    "version": 3
   },
   "file_extension": ".py",
   "mimetype": "text/x-python",
   "name": "python",
   "nbconvert_exporter": "python",
   "pygments_lexer": "ipython3",
   "version": "3.8.10"
  }
 },
 "nbformat": 4,
 "nbformat_minor": 5
}
